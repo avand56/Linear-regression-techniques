{
 "cells": [
  {
   "cell_type": "markdown",
   "metadata": {},
   "source": [
    "# This code contains functions to perform linear regression with and without SKlearn. LAD regression and OLS regression are performed without SKlearn."
   ]
  },
  {
   "cell_type": "code",
   "execution_count": 2,
   "metadata": {},
   "outputs": [],
   "source": [
    "# Import all the necessary packages: \n",
    "import matplotlib.pyplot as plt \n",
    "import numpy as np\n",
    "import pandas as pd\n",
    "import scipy.stats as ss \n",
    "import scipy.optimize as so\n",
    "from sklearn import linear_model\n",
    "\n",
    "%matplotlib inline"
   ]
  },
  {
   "cell_type": "code",
   "execution_count": 3,
   "metadata": {},
   "outputs": [
    {
     "name": "stdout",
     "output_type": "stream",
     "text": [
      "[36.  36.5 39.  38.  36.  35.5 36.  37.  55.3 37.5 39.  35.5 36.  36.\n",
      " 34.  34.5 36.5 36.  35.  38.  39.5 39.5 36.  34.  35.5 36.  35.  34.5\n",
      " 35.  33.5 37.  39.  37.  36.5 35.5 35.  35.  35.5 34.  36.  36.5 32.\n",
      " 32.  35.5 34.  35. ]\n"
     ]
    },
    {
     "data": {
      "image/png": "[encoded data removed]",
      "text/plain": [
       "<Figure size 432x288 with 1 Axes>"
      ]
     },
     "metadata": {
      "needs_background": "light"
     },
     "output_type": "display_data"
    }
   ],
   "source": [
    "# Read in the data with pandas\n",
    "possum_data = pd.read_csv('possum.csv')\n",
    "age=possum_data.loc[:,'age'].values #x\n",
    "tail=possum_data.loc[:,'tailL'].values #y\n",
    "age=np.reshape(age,(-1,1))\n",
    "possum_data.head()\n",
    "\n",
    "\n",
    "# Make the scatter plot (don't forget the axis labels)\n",
    "plt.scatter(age,tail, color = 'red',alpha=0.2)\n",
    "plt.title('Possum data')\n",
    "plt.xlabel('Age')\n",
    "plt.ylabel('Tail length')\n",
    "plt.show()\n"
   ]
  },
  {
   "cell_type": "code",
   "execution_count": 4,
   "metadata": {},
   "outputs": [
    {
     "name": "stdout",
     "output_type": "stream",
     "text": [
      "The predicted y value is: [ 0.1 -0.2  0.7] and the dimensionality of the returned numpy array is 1D.\n"
     ]
    }
   ],
   "source": [
    "def linearModelPredict(b,X):\n",
    "    yp=np.dot(X,b)\n",
    "    return yp\n",
    "\n",
    "# Always important: Test the new function you have written! \n",
    "X = np.array([[1,0],[1,-1],[1,2]])\n",
    "b = np.array([0.1,0.3])\n",
    "d=linearModelPredict(b,X)\n",
    "\n",
    "#used to test b as a 2d array\n",
    "X = np.array([[1,0],[1,-1],[1,2]])\n",
    "b = np.array([0.1,0.3])\n",
    "bb=np.reshape(b,(-1,1))\n",
    "yy=linearModelPredict(bb,X)\n",
    "\n",
    "\n",
    "#report y\n",
    "print(\"The predicted y value is: {} and the dimensionality of the returned numpy array is 1D.\".format(d))"
   ]
  },
  {
   "cell_type": "code",
   "execution_count": 5,
   "metadata": {},
   "outputs": [
    {
     "name": "stdout",
     "output_type": "stream",
     "text": [
      "The Residual sum of squares (RSS) is 2.06 and the gradient is [-3.6 -4. ].\n"
     ]
    }
   ],
   "source": [
    "def linearModelLossRSS(b,X,y):\n",
    "    #predictions\n",
    "    pred_y=linearModelPredict(b,X)\n",
    "    #calc residuals\n",
    "    r=np.subtract(y,pred_y)\n",
    "    #calc Residual sum of squares\n",
    "    rss=np.sum(np.square(r))\n",
    "    #calc grad\n",
    "    grad=-2*(np.dot(X.T,r))\n",
    "    return (rss, grad)\n",
    "\n",
    "#test data\n",
    "X = np.array([[1,0],[1,-1],[1,2]])\n",
    "b = np.array([0.1,0.3])\n",
    "y = np.array([0,0.4,2]) \n",
    "v=linearModelLossRSS(b,X,y)\n",
    "print('The Residual sum of squares (RSS) is {} and the gradient is {}.'.format(v[0],v[1]))"
   ]
  },
  {
   "cell_type": "code",
   "execution_count": 6,
   "metadata": {},
   "outputs": [
    {
     "name": "stdout",
     "output_type": "stream",
     "text": [
      "The best parameters are [0.6 0.6] and the fitted R2 is 0.75 for the OLS test model.\n"
     ]
    }
   ],
   "source": [
    "def linearModelFit(X,y,lossfcn):\n",
    "    import scipy.optimize as so\n",
    "    #initial location for optimizer\n",
    "    bstart=[0,0]\n",
    "    #optimizer\n",
    "    result=so.minimize(lossfcn,bstart,args=(X,y), jac=True)\n",
    "    #The estimated parameters\n",
    "    estimated_betas=result.x\n",
    "    #calculate total sum of squares\n",
    "    tss=np.sum(np.square(np.subtract(y,np.mean(y))))\n",
    "    #calc loss function\n",
    "    (rss,grad)=lossfcn(estimated_betas,X,y)\n",
    "    #calculate r2 value\n",
    "    R2=1-((rss)/(tss))\n",
    "    return (estimated_betas,R2)\n",
    "\n",
    "#test data\n",
    "X = np.array([[1,0],[1,-1],[1,2]])\n",
    "y = np.array([0,0.4,2])\n",
    "z=linearModelFit(X,y,linearModelLossRSS)\n",
    "\n",
    "print('The best parameters are {} and the fitted R2 is {} for the OLS test model.'.format(z[0],z[1]))"
   ]
  },
  {
   "cell_type": "code",
   "execution_count": 7,
   "metadata": {},
   "outputs": [
    {
     "data": {
      "image/png": "[encoded data removed]",
      "text/plain": [
       "<Figure size 432x288 with 1 Axes>"
      ]
     },
     "metadata": {
      "needs_background": "light"
     },
     "output_type": "display_data"
    },
    {
     "name": "stdout",
     "output_type": "stream",
     "text": [
      "The R2 value is: 0.22286587947604097\n"
     ]
    }
   ],
   "source": [
    "# Make the design matrix using np.c_ \n",
    "y = tail\n",
    "x = age\n",
    "# xx concatenates age with col of 1's\n",
    "xx=np.c_[np.ones(x.size),x]\n",
    "#x_grid creates a 46x1 matrix. need to concatenate with column of 1's from 1-9.\n",
    "x_grid=np.linspace(age.min(),age.max(),age.size)\n",
    "#Xn concatenates col of 1's with xgrid\n",
    "Xn=np.c_[np.ones(x_grid.size),x_grid]\n",
    "# Call your fitting function \n",
    "(b1,R2)=linearModelFit(xx,y,linearModelLossRSS)\n",
    "\n",
    "# Create the scatter plot (see question 1.1)\n",
    "plt.scatter(age,tail, color = 'red')\n",
    "plt.title('Possum tail length as a function age')\n",
    "plt.xlabel('Age (years)')\n",
    "plt.ylabel('Tail length (cm)')\n",
    "#model predictions\n",
    "y_p=linearModelPredict(b1,Xn)\n",
    "plt.plot(x_grid,y_p,color='blue')\n",
    "plt.show()\n",
    "\n",
    "# Report R2 \n",
    "print('The R2 value is: {}'.format(R2))"
   ]
  },
  {
   "cell_type": "code",
   "execution_count": 13,
   "metadata": {},
   "outputs": [
    {
     "name": "stdout",
     "output_type": "stream",
     "text": [
      "The loss is: 2.0, and the gradient is:[-1. -1.]\n"
     ]
    }
   ],
   "source": [
    "def linearModelLossLAD(b,X,y):\n",
    "    predy=linearModelPredict(b,X)\n",
    "    res = y-predy\n",
    "    sres = np.sign(res); \n",
    "    sum_abs_dev = sum(abs(res))\n",
    "    grad =- (np.dot(sres,X))\n",
    "    return (sum_abs_dev,grad)\n",
    "\n",
    "#test\n",
    "X = np.array([[1,0],[1,-1],[1,2]])\n",
    "b = np.array([0.1,0.3])\n",
    "y = np.array([0,0.4,2]) \n",
    "(sum_abs_dev,grad)=linearModelLossLAD(b,X,y)\n",
    "print('The loss is: {}, and the gradient is:{}'.format(sum_abs_dev, grad))"
   ]
  },
  {
   "cell_type": "code",
   "execution_count": 14,
   "metadata": {},
   "outputs": [
    {
     "name": "stderr",
     "output_type": "stream",
     "text": [
      "C:\\Users\\avand\\miniconda3\\envs\\myEnv\\lib\\site-packages\\scipy\\optimize\\optimize.py:1166: RuntimeWarning: divide by zero encountered in double_scalars\n",
      "  rhok = 1.0 / (np.dot(yk, sk))\n",
      "C:\\Users\\avand\\miniconda3\\envs\\myEnv\\lib\\site-packages\\scipy\\optimize\\optimize.py:1166: RuntimeWarning: divide by zero encountered in double_scalars\n",
      "  rhok = 1.0 / (np.dot(yk, sk))\n"
     ]
    },
    {
     "data": {
      "image/png": "[encoded data removed]",
      "text/plain": [
       "<Figure size 432x288 with 1 Axes>"
      ]
     },
     "metadata": {
      "needs_background": "light"
     },
     "output_type": "display_data"
    },
    {
     "name": "stdout",
     "output_type": "stream",
     "text": [
      "The R2 value is: 0.8518892557534495\n"
     ]
    }
   ],
   "source": [
    "# Make the design matrix using np.c_ \n",
    "y = possum_data.tailL.values\n",
    "x = possum_data.age.values\n",
    "# xx concatenates age with col of 1's\n",
    "xx=np.c_[np.ones(x.size),x]\n",
    "#x_grid creates a 46x1 matrix. need to concatenate with column of 1's from 1-9.\n",
    "x_grid=np.linspace(age.min(),age.max()+1)\n",
    "#Xn concatenates col of 1's with xgrid\n",
    "Xn=np.c_[np.ones(x_grid.size),x_grid]\n",
    "# Call your fitting function \n",
    "(bl,R2l)=linearModelFit(xx,y,linearModelLossLAD)\n",
    "\n",
    "#predictiong function\n",
    "yp1=linearModelPredict(bl,Xn)\n",
    "\n",
    "# Create the scatter plot (see question 1.1)\n",
    "plt.scatter(age,tail, color = 'red')\n",
    "plt.title('Possum tail length as a function age')\n",
    "plt.xlabel('Age (years)')\n",
    "plt.ylabel('Tail length(cm)')\n",
    "#prediction\n",
    "plt.plot(x_grid,yp1,color='blue')\n",
    "plt.show()\n",
    "\n",
    "# Report R2 \n",
    "print('The R2 value is: {}'.format(R2l))"
   ]
  },
  {
   "cell_type": "code",
   "execution_count": 18,
   "metadata": {},
   "outputs": [
    {
     "name": "stdout",
     "output_type": "stream",
     "text": [
      "The intercept is: 35.015527950310556\n",
      "The coefficient (slope) is: [0.32919255]\n",
      "The R2 value is: 0.15278063820922583\n",
      "The R2 value is similar to the R2 value from the OLS model, which is expected since they are each ordinary least squares algorithms, but the LAD model has a larger r2 value, likely due to an error in the algorithm\n"
     ]
    },
    {
     "data": {
      "image/png": "[encoded data removed]",
      "text/plain": [
       "<Figure size 432x288 with 1 Axes>"
      ]
     },
     "metadata": {
      "needs_background": "light"
     },
     "output_type": "display_data"
    }
   ],
   "source": [
    "from sklearn.linear_model import LinearRegression\n",
    "from sklearn.model_selection import train_test_split\n",
    "from sklearn.metrics import r2_score\n",
    "\n",
    "age=possum_data.loc[:,'age'].values #x\n",
    "tail=possum_data.loc[:,'tailL'].values #y\n",
    "age=np.reshape(age,(-1,1))\n",
    "\n",
    "#regressor\n",
    "regressor = linear_model.LinearRegression()\n",
    "# Split the data into training/testing sets\n",
    "#chose 72% test size because it retruned the highest r2 value.\n",
    "(age_train, age_test, tail_train, tail_test) = train_test_split(age, tail, test_size = 0.72, random_state = 0)\n",
    "regressor.fit(age_train, tail_train)\n",
    "y_predict=regressor.predict(age_test)\n",
    "#print intercept and coefficients\n",
    "print('The intercept is: {}'.format(regressor.intercept_))\n",
    "print('The coefficient (slope) is: {}'.format(regressor.coef_))\n",
    "r2score=r2_score(tail_test, y_predict)\n",
    "print('The R2 value is: {}'.format(r2score))\n",
    "\n",
    "print('The R2 value is similar to the R2 value from the OLS model, which is expected since they are each ordinary least squares algorithms, but the LAD model has a larger r2 value, likely due to an error in the algorithm')\n",
    "#plot\n",
    "plt.scatter(age,tail, color = 'red')\n",
    "plt.plot(age_test, y_predict, color = 'blue')\n",
    "plt.title('Possum tail length as a function age')\n",
    "plt.xlabel('Age (years)')\n",
    "plt.ylabel('Tail length(cm)')\n",
    "plt.show()"
   ]
  },
  {
   "cell_type": "code",
   "execution_count": null,
   "metadata": {},
   "outputs": [],
   "source": []
  }
 ],
 "metadata": {
  "kernelspec": {
   "display_name": "Python [conda env:myEnv]",
   "language": "python",
   "name": "conda-env-myEnv-py"
  },
  "language_info": {
   "codemirror_mode": {
    "name": "ipython",
    "version": 3
   },
   "file_extension": ".py",
   "mimetype": "text/x-python",
   "name": "python",
   "nbconvert_exporter": "python",
   "pygments_lexer": "ipython3",
   "version": "3.6.4"
  }
 },
 "nbformat": 4,
 "nbformat_minor": 4
}
